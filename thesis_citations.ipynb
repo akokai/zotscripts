{
 "cells": [
  {
   "cell_type": "markdown",
   "metadata": {},
   "source": [
    "# Thesis chapters citation substitution\n",
    "\n",
    "See [citation_substitution.ipynb](citation_substitution.ipynb)."
   ]
  },
  {
   "cell_type": "code",
   "execution_count": null,
   "metadata": {},
   "outputs": [],
   "source": [
    "import json\n",
    "import re\n",
    "from pyzotero import zotero\n",
    "\n",
    "import settings\n",
    "import zotscripts as zs\n",
    "from citesub import SCAN_RX, subst, parse_scannable"
   ]
  },
  {
   "cell_type": "markdown",
   "metadata": {},
   "source": [
    "## Load bibliography"
   ]
  },
  {
   "cell_type": "code",
   "execution_count": null,
   "metadata": {},
   "outputs": [],
   "source": [
    "with open(\"thesis/library.json\", \"r\") as bibfile:\n",
    "    bib_data = json.load(bibfile)"
   ]
  },
  {
   "cell_type": "markdown",
   "metadata": {},
   "source": [
    "## Process the document and generate output"
   ]
  },
  {
   "cell_type": "code",
   "execution_count": null,
   "metadata": {},
   "outputs": [],
   "source": [
    "collected_citations = set()"
   ]
  },
  {
   "cell_type": "code",
   "execution_count": null,
   "metadata": {},
   "outputs": [],
   "source": [
    "def sub_citations(matched):\n",
    "    text = matched.group(0)\n",
    "    return subst(parse_scannable(text[:-1]), collected_citations, bib_data) + text[-1]"
   ]
  },
  {
   "cell_type": "code",
   "execution_count": null,
   "metadata": {},
   "outputs": [],
   "source": [
    "def sub_line(line):\n",
    "    found = re.findall(SCAN_RX, line)\n",
    "    if not found:\n",
    "        return line\n",
    "    return re.sub(SCAN_RX, sub_citations, line)"
   ]
  },
  {
   "cell_type": "code",
   "execution_count": null,
   "metadata": {},
   "outputs": [],
   "source": [
    "with open(\"thesis/Data Commons 2019-10-03.md\", \"r\") as mdfile, open(\n",
    "    \"thesis/Data Commons 2019-10-03-converted.md\", \"w\"\n",
    ") as outfile:\n",
    "    for line in mdfile:\n",
    "        outfile.write(sub_line(line))"
   ]
  },
  {
   "cell_type": "code",
   "execution_count": null,
   "metadata": {},
   "outputs": [],
   "source": [
    "len(collected_citations)"
   ]
  },
  {
   "cell_type": "markdown",
   "metadata": {},
   "source": [
    "## Zotero library\n",
    "\n",
    "Add all the citations processed in this document to a given Zotero collection.\n",
    "\n",
    "Remember to **disable automatic sync** in Zotero desktop client before running these cells."
   ]
  },
  {
   "cell_type": "code",
   "execution_count": null,
   "metadata": {},
   "outputs": [],
   "source": [
    "zot = zotero.Zotero(settings.USER_ID, \"user\", settings.API_KEY)\n",
    "colls = zot.collections()"
   ]
  },
  {
   "cell_type": "code",
   "execution_count": null,
   "metadata": {},
   "outputs": [],
   "source": [
    "for coll in colls:\n",
    "    if coll[\"data\"][\"name\"].startswith(\"#\"):\n",
    "        print(coll[\"data\"])"
   ]
  },
  {
   "cell_type": "code",
   "execution_count": null,
   "metadata": {},
   "outputs": [],
   "source": [
    "collection = \"\"  # Use Zotero collection key for this chapter"
   ]
  },
  {
   "cell_type": "code",
   "execution_count": null,
   "metadata": {},
   "outputs": [],
   "source": [
    "for key in sorted(collected_citations):\n",
    "    item = zot.item(key)\n",
    "    zot.addto_collection(collection, item)"
   ]
  }
 ],
 "metadata": {
  "kernelspec": {
   "display_name": "Python 3",
   "language": "python",
   "name": "python3"
  },
  "language_info": {
   "codemirror_mode": {
    "name": "ipython",
    "version": 3
   },
   "file_extension": ".py",
   "mimetype": "text/x-python",
   "name": "python",
   "nbconvert_exporter": "python",
   "pygments_lexer": "ipython3",
   "version": "3.7.4"
  }
 },
 "nbformat": 4,
 "nbformat_minor": 4
}
