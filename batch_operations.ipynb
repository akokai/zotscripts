{
 "cells": [
  {
   "cell_type": "code",
   "execution_count": null,
   "metadata": {
    "collapsed": true
   },
   "outputs": [],
   "source": [
    "import settings\n",
    "from pyzotero import zotero\n",
    "\n",
    "zot = zotero.Zotero(settings.USER_ID, 'user', settings.API_KEY)\n",
    "\n",
    "import zotscripts as zs"
   ]
  },
  {
   "cell_type": "markdown",
   "metadata": {},
   "source": [
    "## Collections"
   ]
  },
  {
   "cell_type": "code",
   "execution_count": null,
   "metadata": {
    "collapsed": true
   },
   "outputs": [],
   "source": [
    "all_colls = zot.collections()"
   ]
  },
  {
   "cell_type": "markdown",
   "metadata": {},
   "source": [
    "### Automatically tag items with collection name, for all subcollections of  `zotscripts_tag`"
   ]
  },
  {
   "cell_type": "code",
   "execution_count": null,
   "metadata": {
    "collapsed": false,
    "scrolled": true
   },
   "outputs": [],
   "source": [
    "zotscripts_tag = zs.coll_key_from_name('zotscripts_tag', all_colls)\n",
    "print(zotscripts_tag)"
   ]
  },
  {
   "cell_type": "code",
   "execution_count": null,
   "metadata": {
    "collapsed": false,
    "scrolled": false
   },
   "outputs": [],
   "source": [
    "zs.autotag_subcoll_items(zot, zotscripts_tag)"
   ]
  },
  {
   "cell_type": "markdown",
   "metadata": {},
   "source": [
    "### One-off script to add tags to items in specific collections according to a dict"
   ]
  },
  {
   "cell_type": "code",
   "execution_count": null,
   "metadata": {
    "collapsed": false
   },
   "outputs": [],
   "source": [
    "# Define a dict of tags to be added to each specific collection,\n",
    "# by collection name.\n",
    "coll_tags = {\n",
    "    'Bioinformatics': ['Bioinformatics'],\n",
    "    'Biomonitoring': ['Biomonitoring', 'Exposure'],\n",
    "    'Body burden': ['Body Burden'],\n",
    "    'Cheminformatics': ['Cheminformatics'],\n",
    "    'Computational': ['Computational Toxicology'],\n",
    "    'Exposure': ['Exposure'],\n",
    "    'Nanomaterials': ['Nanomaterials'],\n",
    "    'Nanotoxicology': ['Nanomaterials', 'Nanotoxicology'],\n",
    "}\n",
    "\n",
    "# Get a dict of name: key for all collections.\n",
    "names_keys = zs.coll_names_keys(all_colls)\n",
    "\n",
    "# Match collection keys with lists of tags.\n",
    "keys_tags = {names_keys[name]: coll_tags[name] for name in coll_tags}\n",
    "\n",
    "# Add tags to items...\n",
    "for key, tags in keys_tags.items():\n",
    "    for item in zot.collection_items(key):\n",
    "        zot.add_tags(item, *tags)\n",
    "        try:\n",
    "            print('Adding tags', tags, 'to', item['data']['title'])\n",
    "        except KeyError:\n",
    "            pass"
   ]
  },
  {
   "cell_type": "markdown",
   "metadata": {},
   "source": [
    "## Titles"
   ]
  },
  {
   "cell_type": "markdown",
   "metadata": {},
   "source": [
    "### Dry run of sentence-casing titles for all items in a collection"
   ]
  },
  {
   "cell_type": "code",
   "execution_count": null,
   "metadata": {
    "collapsed": false
   },
   "outputs": [],
   "source": [
    "coll_id = settings.TEST_COLL_ID\n",
    "\n",
    "print(zot.num_collectionitems(coll_id), 'items in collection.')\n",
    "items = zs.all_coll_items(zot, coll_id)\n",
    "\n",
    "for item in items:\n",
    "    new_item = zs.item_titles_to_sentence(item)\n",
    "    # No need to print anything extra\n",
    "    # No updating"
   ]
  },
  {
   "cell_type": "markdown",
   "metadata": {},
   "source": [
    "### One-off script to update ONLY `shortTitle` and `bookTitle`"
   ]
  },
  {
   "cell_type": "code",
   "execution_count": null,
   "metadata": {
    "collapsed": false
   },
   "outputs": [],
   "source": [
    "# from pyzotero.zotero_errors import PreConditionFailed\n",
    "\n",
    "coll_id = settings.TEST_COLL_ID\n",
    "\n",
    "print(zot.num_collectionitems(coll_id), 'items in collection.')\n",
    "items = zs.all_coll_items(zot, coll_id)\n",
    "\n",
    "for item in items:\n",
    "    new_item = zs.item_titles_to_sentence(item, keys=['shortTitle', 'bookTitle'])\n",
    "#     if new_item:\n",
    "#         try:\n",
    "#             zot.update_item(new_item)\n",
    "#         except PreConditionFailed:\n",
    "#             print('{:<10}'.format('FAILED'), item['data']['title'])"
   ]
  },
  {
   "cell_type": "markdown",
   "metadata": {},
   "source": [
    "## Journal article metadata"
   ]
  },
  {
   "cell_type": "markdown",
   "metadata": {},
   "source": [
    "### One-off script to clear  `accessDate` from all journal articles in a collection"
   ]
  },
  {
   "cell_type": "code",
   "execution_count": null,
   "metadata": {
    "collapsed": false
   },
   "outputs": [],
   "source": [
    "coll_id = settings.TEST_COLL_ID\n",
    "\n",
    "print(zot.num_collectionitems(coll_id), 'items in collection.')\n",
    "items = zs.all_coll_items(zot, coll_id)\n",
    "\n",
    "for item in items:\n",
    "    if item['data']['itemType'] != 'journalArticle':\n",
    "        continue\n",
    "    \n",
    "    if item['data']['accessDate']:\n",
    "        item['data']['accessDate'] = ''\n",
    "        print('Cleared accessDate:', item['data']['key'])\n",
    "        zot.update_item(item)"
   ]
  }
 ],
 "metadata": {
  "kernelspec": {
   "display_name": "Python [default]",
   "language": "python",
   "name": "python3"
  },
  "language_info": {
   "codemirror_mode": {
    "name": "ipython",
    "version": 3
   },
   "file_extension": ".py",
   "mimetype": "text/x-python",
   "name": "python",
   "nbconvert_exporter": "python",
   "pygments_lexer": "ipython3",
   "version": "3.5.2"
  }
 },
 "nbformat": 4,
 "nbformat_minor": 0
}
