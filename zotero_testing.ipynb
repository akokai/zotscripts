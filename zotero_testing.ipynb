{
 "cells": [
  {
   "cell_type": "code",
   "execution_count": 1,
   "metadata": {
    "collapsed": true
   },
   "outputs": [],
   "source": [
    "import re\n",
    "\n",
    "import settings\n",
    "from pyzotero import zotero\n",
    "\n",
    "zot = zotero.Zotero(settings.USER_ID, 'user', settings.API_KEY)"
   ]
  },
  {
   "cell_type": "code",
   "execution_count": null,
   "metadata": {
    "collapsed": false
   },
   "outputs": [],
   "source": [
    "from zotscripts import *"
   ]
  },
  {
   "cell_type": "markdown",
   "metadata": {},
   "source": [
    "## Titles"
   ]
  },
  {
   "cell_type": "markdown",
   "metadata": {},
   "source": [
    "### Try different ways of checking for words that should retain their capitalization"
   ]
  },
  {
   "cell_type": "code",
   "execution_count": 2,
   "metadata": {
    "collapsed": false,
    "scrolled": true
   },
   "outputs": [
    {
     "name": "stdout",
     "output_type": "stream",
     "text": [
      "ALL                                      ChemSpider\n",
      "ALL                                      PubChemRDF\n",
      "ALL                                      eNanoMapper\n",
      "ALL                                      iPod\n",
      "ALL                                      IPython\n",
      "ALL                                      NGOs\n",
      "DIFF                                     CA\n",
      "(?P<head>\\w+)(?(head)(?P<hump>[A-Z][a-z0-9]+)|(?P=hump){2,}) False\n",
      "(?P<head>\\w+)(?(head)(?P<hump>[A-Z0-9][a-z]*)|(?P=hump){2,}) True\n",
      "ALL                                      IC2\n",
      "ALL                                      InChI\n",
      "DIFF                                     ZnO\n",
      "(?P<head>\\w+)(?(head)(?P<hump>[A-Z][a-z0-9]+)|(?P=hump){2,}) False\n",
      "(?P<head>\\w+)(?(head)(?P<hump>[A-Z0-9][a-z]*)|(?P=hump){2,}) True\n",
      "ALL                                      SO3\n",
      "DIFF                                     Br2\n",
      "(?P<head>\\w+)(?(head)(?P<hump>[A-Z][a-z0-9]+)|(?P=hump){2,}) False\n",
      "(?P<head>\\w+)(?(head)(?P<hump>[A-Z0-9][a-z]*)|(?P=hump){2,}) True\n",
      "DIFF                                     H2\n",
      "(?P<head>\\w+)(?(head)(?P<hump>[A-Z][a-z0-9]+)|(?P=hump){2,}) False\n",
      "(?P<head>\\w+)(?(head)(?P<hump>[A-Z0-9][a-z]*)|(?P=hump){2,}) True\n",
      "ALL                                      Fe2O3\n",
      "ALL                                      NOx\n",
      "NONE                                     Monocapitalized\n",
      "NONE                                     Mono-Capitalized\n"
     ]
    }
   ],
   "source": [
    "cc_rx = [\n",
    "#     r'([A-Z][a-z0-9]+){2,}',\n",
    "#     r'(\\w+[A-Z][a-z0-9]?)+|([A-Z][a-z0-9]+){2,}',\n",
    "    r'(?P<head>\\w+)(?(head)(?P<hump>[A-Z][a-z0-9]+)|(?P=hump){2,})',\n",
    "    r'(?P<head>\\w+)(?(head)(?P<hump>[A-Z0-9][a-z]*)|(?P=hump){2,})',\n",
    "    ]\n",
    "\n",
    "test_words = [\n",
    "    'ChemSpider',\n",
    "    'PubChemRDF',\n",
    "    'eNanoMapper',\n",
    "    'iPod',\n",
    "    'IPython',\n",
    "    # Acronyms\n",
    "    'NGOs',\n",
    "    'CA',\n",
    "    'IC2',\n",
    "    # Chemical terms\n",
    "    'InChI',\n",
    "    'ZnO',\n",
    "    'SO3',\n",
    "    'Br2',\n",
    "    'H2',\n",
    "    'Fe2O3',\n",
    "    'NOx',\n",
    "    # These should not match\n",
    "    'Monocapitalized',\n",
    "    'Mono-Capitalized'\n",
    "]\n",
    "\n",
    "for word in test_words:\n",
    "    results = [re.search(p, word) for p in cc_rx]\n",
    "    if any(results) and not all(results):\n",
    "        print('{:<40}'.format('DIFF'), word)\n",
    "        for (p, r) in zip(cc_rx, map(bool, results)):\n",
    "            print('{0} {1}'.format(p, r))\n",
    "    elif all(results):\n",
    "        print('{:<40}'.format('ALL'), word)\n",
    "    else:\n",
    "        print('{:<40}'.format('NONE'), word)"
   ]
  },
  {
   "cell_type": "code",
   "execution_count": null,
   "metadata": {
    "collapsed": true
   },
   "outputs": [],
   "source": []
  },
  {
   "cell_type": "code",
   "execution_count": null,
   "metadata": {
    "collapsed": true
   },
   "outputs": [],
   "source": []
  },
  {
   "cell_type": "code",
   "execution_count": null,
   "metadata": {
    "collapsed": true
   },
   "outputs": [],
   "source": [
    "# with open('all_titles.txt', 'r') as fp:\n",
    "#     for line in fp:\n",
    "#         for word in line.split():\n",
    "#             results = [re.search(p, word) for p in cc_rx]\n",
    "# ..."
   ]
  },
  {
   "cell_type": "markdown",
   "metadata": {},
   "source": [
    "### Try out sentence-casing titles"
   ]
  },
  {
   "cell_type": "code",
   "execution_count": null,
   "metadata": {
    "collapsed": false
   },
   "outputs": [],
   "source": [
    "with open('all_titles.txt', 'r') as fp:\n",
    "    for line in fp:\n",
    "        print(to_sentence_case(line))"
   ]
  },
  {
   "cell_type": "markdown",
   "metadata": {},
   "source": [
    "### Try out title separators"
   ]
  },
  {
   "cell_type": "code",
   "execution_count": null,
   "metadata": {
    "collapsed": false
   },
   "outputs": [],
   "source": [
    "with open('all_titles.txt', 'r') as fp:\n",
    "    for line in fp:\n",
    "        parts = SEPARATORS.split(line)\n",
    "        print(parts)"
   ]
  },
  {
   "cell_type": "markdown",
   "metadata": {},
   "source": [
    "### Dry run of sentence-casing titles for all items in a collection"
   ]
  },
  {
   "cell_type": "code",
   "execution_count": null,
   "metadata": {
    "collapsed": false
   },
   "outputs": [],
   "source": [
    "coll_id = settings.TEST_COLL_ID\n",
    "\n",
    "print(zot.num_collectionitems(coll_id), 'items in collection.')\n",
    "items = all_coll_items(zot, coll_id)\n",
    "\n",
    "for item in items:\n",
    "    new_item = item_titles_to_sentence(item)\n",
    "    # No need to print anything extra\n",
    "    # No updating"
   ]
  },
  {
   "cell_type": "markdown",
   "metadata": {},
   "source": [
    "### One-off script to update ONLY `shortTitle` and `bookTitle`"
   ]
  },
  {
   "cell_type": "code",
   "execution_count": null,
   "metadata": {
    "collapsed": false
   },
   "outputs": [],
   "source": [
    "# from pyzotero.zotero_errors import PreConditionFailed\n",
    "\n",
    "coll_id = settings.TEST_COLL_ID\n",
    "\n",
    "print(zot.num_collectionitems(coll_id), 'items in collection.')\n",
    "items = all_coll_items(zot, coll_id)\n",
    "\n",
    "for item in items:\n",
    "    new_item = item_titles_to_sentence(item, keys=['shortTitle', 'bookTitle'])\n",
    "#     if new_item:\n",
    "#         try:\n",
    "#             zot.update_item(new_item)\n",
    "#         except PreConditionFailed:\n",
    "#             print('{:<10}'.format('FAILED'), item['data']['title'])"
   ]
  },
  {
   "cell_type": "markdown",
   "metadata": {},
   "source": [
    "## Journal article metadata"
   ]
  },
  {
   "cell_type": "markdown",
   "metadata": {},
   "source": [
    "### One-off script to clear  `accessDate` from all journal articles in a collection"
   ]
  },
  {
   "cell_type": "code",
   "execution_count": null,
   "metadata": {
    "collapsed": false
   },
   "outputs": [],
   "source": [
    "coll_id = settings.TEST_COLL_ID\n",
    "\n",
    "print(zot.num_collectionitems(coll_id), 'items in collection.')\n",
    "items = all_coll_items(zot, coll_id)\n",
    "\n",
    "for item in items:\n",
    "    if item['data']['itemType'] != 'journalArticle':\n",
    "        continue\n",
    "    \n",
    "    if item['data']['accessDate']:\n",
    "        item['data']['accessDate'] = ''\n",
    "        print('Cleared accessDate:', item['data']['key'])\n",
    "        zot.update_item(item)"
   ]
  }
 ],
 "metadata": {
  "kernelspec": {
   "display_name": "Python 3",
   "language": "python",
   "name": "python3"
  },
  "language_info": {
   "codemirror_mode": {
    "name": "ipython",
    "version": 3
   },
   "file_extension": ".py",
   "mimetype": "text/x-python",
   "name": "python",
   "nbconvert_exporter": "python",
   "pygments_lexer": "ipython3",
   "version": "3.5.2"
  }
 },
 "nbformat": 4,
 "nbformat_minor": 0
}
