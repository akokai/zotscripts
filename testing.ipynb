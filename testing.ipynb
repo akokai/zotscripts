{
 "cells": [
  {
   "cell_type": "code",
   "execution_count": 1,
   "metadata": {
    "collapsed": true
   },
   "outputs": [],
   "source": [
    "import re\n",
    "\n",
    "import settings\n",
    "from pyzotero import zotero\n",
    "\n",
    "zot = zotero.Zotero(settings.USER_ID, 'user', settings.API_KEY)"
   ]
  },
  {
   "cell_type": "code",
   "execution_count": 2,
   "metadata": {
    "collapsed": false
   },
   "outputs": [],
   "source": [
    "import zotscripts as zs"
   ]
  },
  {
   "cell_type": "markdown",
   "metadata": {},
   "source": [
    "## Collections"
   ]
  },
  {
   "cell_type": "code",
   "execution_count": 3,
   "metadata": {
    "collapsed": true
   },
   "outputs": [],
   "source": [
    "# This defines a dict of tags to be added to each specific collection,\n",
    "# by collection name.\n",
    "from tags import coll_tags"
   ]
  },
  {
   "cell_type": "code",
   "execution_count": 7,
   "metadata": {
    "collapsed": false
   },
   "outputs": [],
   "source": [
    "# Get a dict of name: key for all collections.\n",
    "colls = zot.collections()\n",
    "names_keys = zs.coll_names_keys(colls)"
   ]
  },
  {
   "cell_type": "code",
   "execution_count": 10,
   "metadata": {
    "collapsed": false
   },
   "outputs": [
    {
     "data": {
      "text/plain": [
       "{'4D4HMQMC': ['Biomonitoring'],\n",
       " '8WGEBIWX': ['Cheminformatics'],\n",
       " 'AVJBFRKW': ['Computational Toxicology'],\n",
       " 'B9X2QJE7': ['Body Burden'],\n",
       " 'DMZ258CQ': ['Nanomaterials', 'Nanotoxicology'],\n",
       " 'DNEDW2RZ': ['Nanomaterials'],\n",
       " 'GKXGPZVD': ['Bioinformatics'],\n",
       " 'KVDRDNFU': ['Exposure']}"
      ]
     },
     "execution_count": 10,
     "metadata": {},
     "output_type": "execute_result"
    }
   ],
   "source": [
    "keys_tags = {names_keys[name]: coll_tags[name] for name in coll_tags}\n",
    "keys_tags"
   ]
  },
  {
   "cell_type": "code",
   "execution_count": null,
   "metadata": {
    "collapsed": false,
    "scrolled": false
   },
   "outputs": [],
   "source": [
    "for key, tags in keys_tags.items():\n",
    "    for item in zot.collection_items(key):\n",
    "        if item['data']['itemType'] not in ['note', 'attachment']:\n",
    "            print('Add tags', tags, 'to', item['data']['title'])\n",
    "            # Do nothing"
   ]
  },
  {
   "cell_type": "markdown",
   "metadata": {},
   "source": [
    "### Automatically add items from one collection (including subcollection items?) to another collection\n",
    "\n",
    "... doesn't work... `Zotero.collection_items` doesn't retrieve subcollection items."
   ]
  },
  {
   "cell_type": "code",
   "execution_count": null,
   "metadata": {
    "collapsed": true
   },
   "outputs": [],
   "source": [
    "zotscripts_tag = zs.coll_key_from_name('zotscripts_tag', all_colls)\n",
    "print(zotscripts_tag)\n",
    "\n",
    "chdc_share = zs.coll_key_from_name('Zotero-CHDC export', all_colls)\n",
    "print(chdc_share)"
   ]
  },
  {
   "cell_type": "code",
   "execution_count": null,
   "metadata": {
    "collapsed": true
   },
   "outputs": [],
   "source": [
    "# No wonder it doesn't work...\n",
    "items = zot.collection_items(zotscripts_tag)\n",
    "print(len(items))\n",
    "for item in items:\n",
    "    try:\n",
    "        print('Adding item', item['data']['title'])\n",
    "    except KeyError:\n",
    "        pass\n",
    "#     zot.addto_collection(item, chdc_share)"
   ]
  },
  {
   "cell_type": "markdown",
   "metadata": {},
   "source": [
    "## Titles"
   ]
  },
  {
   "cell_type": "markdown",
   "metadata": {},
   "source": [
    "### Try different ways of checking for words that should retain their capitalization"
   ]
  },
  {
   "cell_type": "code",
   "execution_count": 2,
   "metadata": {
    "collapsed": false,
    "scrolled": true
   },
   "outputs": [
    {
     "name": "stdout",
     "output_type": "stream",
     "text": [
      "ALL                                      ChemSpider\n",
      "ALL                                      PubChemRDF\n",
      "ALL                                      eNanoMapper\n",
      "ALL                                      iPod\n",
      "ALL                                      IPython\n",
      "ALL                                      NGOs\n",
      "DIFF                                     CA\n",
      "(?P<head>\\w+)(?(head)(?P<hump>[A-Z][a-z0-9]+)|(?P=hump){2,}) False\n",
      "(?P<head>\\w+)(?(head)(?P<hump>[A-Z0-9][a-z]*)|(?P=hump){2,}) True\n",
      "ALL                                      IC2\n",
      "ALL                                      InChI\n",
      "DIFF                                     ZnO\n",
      "(?P<head>\\w+)(?(head)(?P<hump>[A-Z][a-z0-9]+)|(?P=hump){2,}) False\n",
      "(?P<head>\\w+)(?(head)(?P<hump>[A-Z0-9][a-z]*)|(?P=hump){2,}) True\n",
      "ALL                                      SO3\n",
      "DIFF                                     Br2\n",
      "(?P<head>\\w+)(?(head)(?P<hump>[A-Z][a-z0-9]+)|(?P=hump){2,}) False\n",
      "(?P<head>\\w+)(?(head)(?P<hump>[A-Z0-9][a-z]*)|(?P=hump){2,}) True\n",
      "DIFF                                     H2\n",
      "(?P<head>\\w+)(?(head)(?P<hump>[A-Z][a-z0-9]+)|(?P=hump){2,}) False\n",
      "(?P<head>\\w+)(?(head)(?P<hump>[A-Z0-9][a-z]*)|(?P=hump){2,}) True\n",
      "ALL                                      Fe2O3\n",
      "ALL                                      NOx\n",
      "NONE                                     Monocapitalized\n",
      "NONE                                     Mono-Capitalized\n"
     ]
    }
   ],
   "source": [
    "cc_rx = [\n",
    "#     r'([A-Z][a-z0-9]+){2,}',\n",
    "#     r'(\\w+[A-Z][a-z0-9]?)+|([A-Z][a-z0-9]+){2,}',\n",
    "    r'(?P<head>\\w+)(?(head)(?P<hump>[A-Z][a-z0-9]+)|(?P=hump){2,})',\n",
    "    r'(?P<head>\\w+)(?(head)(?P<hump>[A-Z0-9][a-z]*)|(?P=hump){2,})',\n",
    "    ]\n",
    "\n",
    "test_words = [\n",
    "    'ChemSpider',\n",
    "    'PubChemRDF',\n",
    "    'eNanoMapper',\n",
    "    'iPod',\n",
    "    'IPython',\n",
    "    # Acronyms\n",
    "    'NGOs',\n",
    "    'CA',\n",
    "    'IC2',\n",
    "    # Chemical terms\n",
    "    'InChI',\n",
    "    'ZnO',\n",
    "    'SO3',\n",
    "    'Br2',\n",
    "    'H2',\n",
    "    'Fe2O3',\n",
    "    'NOx',\n",
    "    # These should not match\n",
    "    'Monocapitalized',\n",
    "    'Mono-Capitalized'\n",
    "]\n",
    "\n",
    "for word in test_words:\n",
    "    results = [re.search(p, word) for p in cc_rx]\n",
    "    if any(results) and not all(results):\n",
    "        print('{:<40}'.format('DIFF'), word)\n",
    "        for (p, r) in zip(cc_rx, map(bool, results)):\n",
    "            print('{0} {1}'.format(p, r))\n",
    "    elif all(results):\n",
    "        print('{:<40}'.format('ALL'), word)\n",
    "    else:\n",
    "        print('{:<40}'.format('NONE'), word)"
   ]
  },
  {
   "cell_type": "markdown",
   "metadata": {},
   "source": [
    "### Try out sentence-casing titles"
   ]
  },
  {
   "cell_type": "code",
   "execution_count": null,
   "metadata": {
    "collapsed": false
   },
   "outputs": [],
   "source": [
    "with open('all_titles.txt', 'r') as fp:\n",
    "    for line in fp:\n",
    "        print(zs.to_sentence_case(line))"
   ]
  },
  {
   "cell_type": "markdown",
   "metadata": {},
   "source": [
    "### Try out title separators"
   ]
  },
  {
   "cell_type": "code",
   "execution_count": null,
   "metadata": {
    "collapsed": false
   },
   "outputs": [],
   "source": [
    "with open('all_titles.txt', 'r') as fp:\n",
    "    for line in fp:\n",
    "        parts = zs.SEPARATORS.split(line)\n",
    "        print(parts)"
   ]
  }
 ],
 "metadata": {
  "kernelspec": {
   "display_name": "Python [default]",
   "language": "python",
   "name": "python3"
  },
  "language_info": {
   "codemirror_mode": {
    "name": "ipython",
    "version": 3
   },
   "file_extension": ".py",
   "mimetype": "text/x-python",
   "name": "python",
   "nbconvert_exporter": "python",
   "pygments_lexer": "ipython3",
   "version": "3.5.2"
  }
 },
 "nbformat": 4,
 "nbformat_minor": 0
}
