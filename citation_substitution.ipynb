{
 "cells": [
  {
   "cell_type": "markdown",
   "metadata": {},
   "source": [
    "# Substituting Zotero scannable citations with Pandoc Markdown citations\n",
    "\n",
    "This notebooks shows a way to take a Markdown document containing Zotero scannable citations and convert those into Pandoc MD citation syntax, using citation keys that are linked to the same actual items in a Zotero database.\n",
    "\n",
    "In a nutshell, from:\n",
    "\n",
    "    { e.g. | Barnes, 1985 | p. 42 | |zu:1589851:BVF6UVWN}\n",
    "\n",
    "To:\n",
    "\n",
    "    [e.g. @barnesScience1985, p. 42]\n",
    "\n",
    "The code that does most of the work is in the module [`citesub.py`](citesub.py)."
   ]
  },
  {
   "cell_type": "code",
   "execution_count": 1,
   "metadata": {},
   "outputs": [],
   "source": [
    "import json\n",
    "import re\n",
    "from citesub import SCAN_RX, subst, parse_scannable"
   ]
  },
  {
   "cell_type": "markdown",
   "metadata": {},
   "source": [
    "## Input documents\n",
    "\n",
    "Besides the MD document being processed here, we also need a bibliography dataset that contains both Zotero's internal keys and the cite keys for each item. This dataset can be produced CSL JSON format by exporting a library or collection from Zotero, but I needed to use some custom processing with the [Better BibTeX plugin](http://retorque.re/zotero-better-bibtex/).\n",
    "\n",
    "To get `test-bibliography.json` I added the following JavaScript snippet to [BBT's advanced export configuration](http://retorque.re/zotero-better-bibtex/exporting/scripting/):\n",
    "\n",
    "    if (Translator.BetterCSL) {\n",
    "      reference[\"zoteroKey\"] = item.key;\n",
    "    }\n",
    "\n",
    "That code adds Zotero's internal key (e.g. `BVF6UVWN`) to each JSON object in the export."
   ]
  },
  {
   "cell_type": "code",
   "execution_count": 2,
   "metadata": {},
   "outputs": [],
   "source": [
    "with open(\"test/scrivener-zotero-scannable.md\", \"r\") as mdfile:\n",
    "    md_lines = mdfile.readlines()\n",
    "\n",
    "with open(\"test/test-bibliography.json\", \"r\") as bibfile:\n",
    "    bib_data = json.load(bibfile)"
   ]
  },
  {
   "cell_type": "markdown",
   "metadata": {},
   "source": [
    "The rest of this notebook is thinking aloud, so feel free to [skip to the end](#Process-the-file-and-generate-output)."
   ]
  },
  {
   "cell_type": "markdown",
   "metadata": {},
   "source": [
    "## Finding scannable cites in the text\n",
    "\n",
    "Find citation groups (or individual citaitons if there's just one at a time). Print the number of groups found in each line of text."
   ]
  },
  {
   "cell_type": "code",
   "execution_count": 3,
   "metadata": {},
   "outputs": [
    {
     "name": "stdout",
     "output_type": "stream",
     "text": [
      "2 ['{ | Wikipedia contributors, 2019 | | |zu:1589851:DEX3JSWI}', '{ e.g. | Barnes, 1985 | | |zu:1589851:BVF6UVWN}{ | Barnes, 1982 | | |zu:1589851:VMPBFGAN}{ | Kuhn, 1962 | | |zu:1589851:UUBEC8PU}']\n",
      "2 ['{ see | Bouchout Declaration, 2014 | p. 1 | |zu:1589851:AP5ZSMVI}', '{ | Bowker, 2000 | | |zu:1589851:MHZGZRMK}']\n",
      "1 ['{ | National Center for Biotechnology Information (NCBI), no date | | |zu:1589851:RR759BZU}']\n",
      "1 ['{ again... | -Wikipedia contributors, 2019 | | |zu:1589851:DEX3JSWI}']\n",
      "1 ['{ | Loy, 2006 | | |zu:1589851:G27C99S2}']\n"
     ]
    }
   ],
   "source": [
    "for line in md_lines:\n",
    "    found = re.findall(SCAN_RX, line)\n",
    "    if found: print(len(found), found)"
   ]
  },
  {
   "cell_type": "markdown",
   "metadata": {},
   "source": [
    "## Getting relevant parameters of each citation\n",
    "\n",
    "Each citation will need to be processed on its own, but they must end up in the same groups that they started in. I'll use these parameters:\n",
    "\n",
    "- Prefix, i.e. \"*see* Barnes, 1985\"\n",
    "- Author name suppression, as in \"According to Barnes (1985)...\"\n",
    "- Location, i.e. \"p. 42\"\n",
    "- I don't use postfixes in my writing\n",
    "- The Zotero unique key"
   ]
  },
  {
   "cell_type": "code",
   "execution_count": 4,
   "metadata": {},
   "outputs": [
    {
     "name": "stdout",
     "output_type": "stream",
     "text": [
      "[{'pre': '', 'noauth': '', 'loc': '', 'key': 'DEX3JSWI'}, [{'pre': 'e.g.', 'noauth': '', 'loc': '', 'key': 'BVF6UVWN'}, {'pre': '', 'noauth': '', 'loc': '', 'key': 'VMPBFGAN'}, {'pre': '', 'noauth': '', 'loc': '', 'key': 'UUBEC8PU'}]]\n",
      "[{'pre': 'see', 'noauth': '', 'loc': 'p. 1', 'key': 'AP5ZSMVI'}, {'pre': '', 'noauth': '', 'loc': '', 'key': 'MHZGZRMK'}]\n",
      "[{'pre': '', 'noauth': '', 'loc': '', 'key': 'RR759BZU'}]\n",
      "[{'pre': 'again...', 'noauth': '-', 'loc': '', 'key': 'DEX3JSWI'}]\n",
      "[{'pre': '', 'noauth': '', 'loc': '', 'key': 'G27C99S2'}]\n"
     ]
    }
   ],
   "source": [
    "for line in md_lines:\n",
    "    found = re.findall(SCAN_RX, line)\n",
    "    if found:\n",
    "        print([parse_scannable(cite) for cite in found])"
   ]
  },
  {
   "cell_type": "markdown",
   "metadata": {},
   "source": [
    "## Transforming scannable cites to Pandoc MD syntax\n",
    "\n",
    "Besides reformatting the citation into the new [syntax](https://rmarkdown.rstudio.com/authoring_pandoc_markdown.html%23raw-tex#citations), there are two extra operations here:\n",
    "\n",
    "- Using that bibliography JSON export, look up the citekey for each item\n",
    "- Collect all the Zotero citation keys into a set, so that I know which ones were in this document"
   ]
  },
  {
   "cell_type": "code",
   "execution_count": 5,
   "metadata": {},
   "outputs": [
    {
     "name": "stdout",
     "output_type": "stream",
     "text": [
      "['[@wikipediacontributorsWikipedia2019]', '[e.g. @barnesScience1985; @barnesKuhnSocialScience1982; @kuhnStructureScientificRevolutions1962]']\n",
      "['[see @bouchoutdeclarationBouchoutDeclarationOpen2014, p. 1]', '[@bowkerBiodiversityDatadiversity2000]']\n",
      "['[@nationalcenterforbiotechnologyinformationncbiPubChem]']\n",
      "['[again... -@wikipediacontributorsWikipedia2019]']\n",
      "['[@loyMusimathicsMathematicalFoundations2006]']\n",
      "{'UUBEC8PU', 'VMPBFGAN', 'DEX3JSWI', 'RR759BZU', 'AP5ZSMVI', 'MHZGZRMK', 'G27C99S2', 'BVF6UVWN'}\n"
     ]
    }
   ],
   "source": [
    "collected_citations = set()\n",
    "\n",
    "for line in md_lines:\n",
    "    found = re.findall(SCAN_RX, line)\n",
    "    if found:\n",
    "        print([subst(parse_scannable(cite), collected_citations, bib_data) for cite in found])\n",
    "        \n",
    "print(collected_citations)"
   ]
  },
  {
   "cell_type": "markdown",
   "metadata": {},
   "source": [
    "## Substituting citations line by line\n",
    "\n",
    "The regex that I use to detect scannable cite groups also matches one character after the last cite ends. So we need to make sure that character is retained."
   ]
  },
  {
   "cell_type": "code",
   "execution_count": 6,
   "metadata": {},
   "outputs": [],
   "source": [
    "def sub_citations(matched):\n",
    "    text = matched.group(0)\n",
    "    return subst(parse_scannable(text[:-1]), collected_citations, bib_data) + text[-1]"
   ]
  },
  {
   "cell_type": "markdown",
   "metadata": {},
   "source": [
    "First, check that the substitutions are correct. There should be the same number of matches as above."
   ]
  },
  {
   "cell_type": "code",
   "execution_count": 7,
   "metadata": {},
   "outputs": [
    {
     "name": "stdout",
     "output_type": "stream",
     "text": [
      "2 All statements should have citations [@wikipediacontributorsWikipedia2019]. Some statements need more than one citation [e.g. @barnesScience1985; @barnesKuhnSocialScience1982; @kuhnStructureScientificRevolutions1962].\n",
      "\n",
      "2 All biodiversity data should be open [see @bouchoutdeclarationBouchoutDeclarationOpen2014, p. 1]---but not necessarily in one uniform organizing system [@bowkerBiodiversityDatadiversity2000].\n",
      "\n",
      "1 Chemical data: same same, but different [@nationalcenterforbiotechnologyinformationncbiPubChem].\n",
      "\n",
      "1 For more knowledge, see Wikipedia [again... -@wikipediacontributorsWikipedia2019].\n",
      "\n",
      "1 [^fn1]: Waves are circles [@loyMusimathicsMathematicalFoundations2006].\n"
     ]
    }
   ],
   "source": [
    "collected_citations = set()\n",
    "\n",
    "for line in md_lines:\n",
    "    found = re.findall(SCAN_RX, line)\n",
    "    if found:\n",
    "        new = re.subn(SCAN_RX, sub_citations, line)\n",
    "        print(new[1], new[0])"
   ]
  },
  {
   "cell_type": "code",
   "execution_count": 8,
   "metadata": {},
   "outputs": [
    {
     "data": {
      "text/plain": [
       "{'AP5ZSMVI',\n",
       " 'BVF6UVWN',\n",
       " 'DEX3JSWI',\n",
       " 'G27C99S2',\n",
       " 'MHZGZRMK',\n",
       " 'RR759BZU',\n",
       " 'UUBEC8PU',\n",
       " 'VMPBFGAN'}"
      ]
     },
     "execution_count": 8,
     "metadata": {},
     "output_type": "execute_result"
    }
   ],
   "source": [
    "collected_citations"
   ]
  },
  {
   "cell_type": "markdown",
   "metadata": {},
   "source": [
    "## Process the file and generate output"
   ]
  },
  {
   "cell_type": "code",
   "execution_count": 9,
   "metadata": {},
   "outputs": [],
   "source": [
    "def subst_line(line):\n",
    "    found = re.findall(SCAN_RX, line)\n",
    "    if not found:\n",
    "        return line\n",
    "    return re.sub(SCAN_RX, sub_citations, line)"
   ]
  },
  {
   "cell_type": "code",
   "execution_count": 10,
   "metadata": {},
   "outputs": [
    {
     "name": "stdout",
     "output_type": "stream",
     "text": [
      "---\n",
      "Title: Test Project  \n",
      "Author: Akos Kokai  \n",
      "reference-section-title: References  \n",
      "csl: https://raw.githubusercontent.com/citation-style-language/styles/master/apa.csl\n",
      "---\n",
      "\n",
      "# Big subject #\n",
      "\n",
      "All statements should have citations [@wikipediacontributorsWikipedia2019]. Some statements need more than one citation [e.g. @barnesScience1985; @barnesKuhnSocialScience1982; @kuhnStructureScientificRevolutions1962].\n",
      "\n",
      "## Little subject ##\n",
      "\n",
      "All biodiversity data should be open [see @bouchoutdeclarationBouchoutDeclarationOpen2014, p. 1]---but not necessarily in one uniform organizing system [@bowkerBiodiversityDatadiversity2000].\n",
      "\n",
      "Chemical data: same same, but different [@nationalcenterforbiotechnologyinformationncbiPubChem].\n",
      "\n",
      "### Insignificant subject ###\n",
      "\n",
      "For more knowledge, see Wikipedia [again... -@wikipediacontributorsWikipedia2019].\n",
      "\n",
      "## Another subject ##\n",
      "\n",
      "This section has a footnote[^fn1] and a list.\n",
      "\n",
      "* First list item\n",
      "* Second list item\n",
      "\n",
      "\n",
      "[^fn1]: Waves are circles [@loyMusimathicsMathematicalFoundations2006]."
     ]
    }
   ],
   "source": [
    "collected_citations = set()\n",
    "\n",
    "substituted = (subst_line(line) for line in md_lines)\n",
    "\n",
    "with open(\"test/citation-substitution.md\", \"w\") as outfile:\n",
    "    for line in substituted:\n",
    "        outfile.write(line)\n",
    "        print(line, end=\"\")"
   ]
  },
  {
   "cell_type": "code",
   "execution_count": 11,
   "metadata": {},
   "outputs": [
    {
     "data": {
      "text/plain": [
       "{'AP5ZSMVI',\n",
       " 'BVF6UVWN',\n",
       " 'DEX3JSWI',\n",
       " 'G27C99S2',\n",
       " 'MHZGZRMK',\n",
       " 'RR759BZU',\n",
       " 'UUBEC8PU',\n",
       " 'VMPBFGAN'}"
      ]
     },
     "execution_count": 11,
     "metadata": {},
     "output_type": "execute_result"
    }
   ],
   "source": [
    "collected_citations"
   ]
  }
 ],
 "metadata": {
  "kernelspec": {
   "display_name": "Python 3",
   "language": "python",
   "name": "python3"
  },
  "language_info": {
   "codemirror_mode": {
    "name": "ipython",
    "version": 3
   },
   "file_extension": ".py",
   "mimetype": "text/x-python",
   "name": "python",
   "nbconvert_exporter": "python",
   "pygments_lexer": "ipython3",
   "version": "3.7.4"
  }
 },
 "nbformat": 4,
 "nbformat_minor": 4
}
